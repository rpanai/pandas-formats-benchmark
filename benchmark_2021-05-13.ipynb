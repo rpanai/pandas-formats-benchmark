{
 "cells": [
  {
   "cell_type": "markdown",
   "metadata": {},
   "source": [
    "# The Best Format to Save Pandas Data"
   ]
  },
  {
   "cell_type": "code",
   "execution_count": 1,
   "metadata": {},
   "outputs": [
    {
     "name": "stdout",
     "output_type": "stream",
     "text": [
      "model name\t: Intel(R) Xeon(R) CPU\n",
      "CPU(s):                          4\n",
      "MemTotal:           15.6376      GB\n"
     ]
    }
   ],
   "source": [
    "!cat /proc/cpuinfo | grep -m1 \"model name\"\n",
    "!lscpu | grep -m1 \"CPU(s)\"\n",
    "!awk '$3==\"kB\"{$2=$2/1024^2;$3=\"GB\";} 1' /proc/meminfo | column -t | grep \"MemTotal\""
   ]
  },
  {
   "cell_type": "code",
   "execution_count": 2,
   "metadata": {},
   "outputs": [],
   "source": [
    "%matplotlib inline\n",
    "%reload_ext autoreload\n",
    "%autoreload 2"
   ]
  },
  {
   "cell_type": "code",
   "execution_count": 3,
   "metadata": {},
   "outputs": [],
   "source": [
    "from collections import defaultdict\n",
    "import os"
   ]
  },
  {
   "cell_type": "code",
   "execution_count": 4,
   "metadata": {},
   "outputs": [],
   "source": [
    "import feather\n",
    "import numpy as np\n",
    "import pandas as pd\n",
    "import seaborn as sns\n",
    "import pyarrow\n",
    "import tables"
   ]
  },
  {
   "cell_type": "code",
   "execution_count": 5,
   "metadata": {},
   "outputs": [
    {
     "name": "stdout",
     "output_type": "stream",
     "text": [
      "Pandas version: 1.2.4\n",
      "Numpy version: 1.20.2\n",
      "Feather version: 0.4.1\n",
      "Pyarrow version: 3.0.0\n",
      "Pytables version: 3.6.1\n"
     ]
    }
   ],
   "source": [
    "print(f\"Pandas version: {pd.__version__}\")\n",
    "print(f\"Numpy version: {np.__version__}\")\n",
    "print(f\"Feather version: {feather.__version__}\")\n",
    "print(f\"Pyarrow version: {pyarrow.__version__}\")\n",
    "print(f\"Pytables version: {tables.__version__}\")"
   ]
  },
  {
   "cell_type": "code",
   "execution_count": 6,
   "metadata": {},
   "outputs": [],
   "source": [
    "from utils import Timer, MemoryTracker, GC, NotebookStyle"
   ]
  },
  {
   "cell_type": "code",
   "execution_count": 7,
   "metadata": {},
   "outputs": [],
   "source": [
    "style = NotebookStyle()\n",
    "style.override({'grid.color': 'lightgray'})"
   ]
  },
  {
   "cell_type": "markdown",
   "metadata": {},
   "source": [
    "## Random Dataset"
   ]
  },
  {
   "cell_type": "code",
   "execution_count": 8,
   "metadata": {},
   "outputs": [],
   "source": [
    "def generate_dataset(n_rows, num_count, cat_count, max_nan=0.1, max_cat_size=100):\n",
    "    \"\"\"Randomly generate datasets with numerical and categorical features.\n",
    "    \n",
    "    The numerical features are taken from the normal distribution X ~ N(0, 1).\n",
    "    The categorical features are generated as random uuid4 strings with \n",
    "    cardinality C where 2 <= C <= max_cat_size.\n",
    "    \n",
    "    Also, a max_nan proportion of both numerical and categorical features is replaces\n",
    "    with NaN values.\n",
    "    \"\"\"\n",
    "    dataset, types = {}, {}\n",
    "    \n",
    "    def generate_categories():\n",
    "        from uuid import uuid4\n",
    "        category_size = np.random.randint(2, max_cat_size)\n",
    "        return [str(uuid4()) for _ in range(category_size)]\n",
    "    \n",
    "    for col in range(num_count):\n",
    "        name = f'n{col}'\n",
    "        values = np.random.normal(0, 1, n_rows)\n",
    "        nan_cnt = np.random.randint(1, int(max_nan*n_rows))\n",
    "        index = np.random.choice(n_rows, nan_cnt, replace=False)\n",
    "        values[index] = np.nan\n",
    "        dataset[name] = values\n",
    "        types[name] = 'float32'\n",
    "        \n",
    "    for col in range(cat_count):\n",
    "        name = f'c{col}'\n",
    "        cats = generate_categories()\n",
    "        values = np.array(np.random.choice(cats, n_rows, replace=True), dtype=object)\n",
    "        nan_cnt = np.random.randint(1, int(max_nan*n_rows))\n",
    "        index = np.random.choice(n_rows, nan_cnt, replace=False)\n",
    "        values[index] = np.nan\n",
    "        dataset[name] = values\n",
    "        types[name] = 'object'\n",
    "    \n",
    "    return pd.DataFrame(dataset), types"
   ]
  },
  {
   "cell_type": "markdown",
   "metadata": {},
   "source": [
    "## Benchmarking"
   ]
  },
  {
   "cell_type": "code",
   "execution_count": 9,
   "metadata": {},
   "outputs": [],
   "source": [
    "def size_of(filename, unit=1024**2):\n",
    "    return round(os.stat(filename).st_size / unit, 2)"
   ]
  },
  {
   "cell_type": "code",
   "execution_count": 10,
   "metadata": {},
   "outputs": [],
   "source": [
    "def get_save_load(df, fmt):\n",
    "    save = getattr(df, f'to_{fmt}')\n",
    "    load = feather.read_dataframe if fmt == 'feather' else getattr(pd, f'read_{fmt}')\n",
    "    return save, load"
   ]
  },
  {
   "cell_type": "code",
   "execution_count": 11,
   "metadata": {},
   "outputs": [],
   "source": [
    "def benchmark(list_of_formats, data_size=1_000_000, n_num=15, n_cat=15, n_rounds=20,\n",
    "              as_category=False):\n",
    "    \"\"\"Runs dataset saving/loading benchamrk using formts from the list_of_formats.\n",
    "    \n",
    "    Each round a new random dataset is generated with data_size observations. \n",
    "    The measurements for each of the rounds are concatenated together and returned\n",
    "    as a single data frame.\n",
    "    \n",
    "    Parameters:\n",
    "        list_of_formats: A list of tuples in the format (<format_name>, [<params_dict>]). \n",
    "            The <format_name> should be one of the pandas supported formats.\n",
    "        data_size: A number of samples in the generated dataset.\n",
    "        n_num: A number of numerical columns in the generated dataset.\n",
    "        n_cat: A number of categorical columns in the generated dataset.\n",
    "        n_rounds: A number of randomly generated datasets to test the formats.\n",
    "        as_category: If True, then categorical columns will be converted into \n",
    "            pandas.Category type before saving.\n",
    "            \n",
    "    \"\"\"\n",
    "    runs = []\n",
    "    \n",
    "    for i in range(n_rounds):\n",
    "        print(f'Benchmarking round #{i + 1:d}')\n",
    "        print('\\tgenerating dataset...')\n",
    "        dataset, _ = generate_dataset(data_size, n_num, n_cat)\n",
    "        \n",
    "        if as_category:\n",
    "            print('\\tconverting categorical columns into pandas.Category')\n",
    "            cat_cols = dataset.select_dtypes(include=object).columns\n",
    "            dataset[cat_cols] = dataset[cat_cols].fillna('none').astype('category')\n",
    "        \n",
    "        benchmark = []\n",
    "        \n",
    "        for case in list_of_formats:\n",
    "            fmt, params = case if len(case) == 2 else (case[0], {})\n",
    "            \n",
    "            with GC():\n",
    "                print('\\ttesting format:', fmt)\n",
    "                filename = f'random.{fmt}'\n",
    "                save, load = get_save_load(dataset, fmt)\n",
    "                results = defaultdict(int)\n",
    "                results['format'] = fmt\n",
    "                results['filename'] = filename\n",
    "                \n",
    "                with MemoryTracker() as tracker:\n",
    "                    with Timer() as timer:\n",
    "                        save(filename, **params)\n",
    "                results['size_mb'] = size_of(filename)\n",
    "                results['save_ram_delta_mb'] = tracker.memory / (1024 ** 2)\n",
    "                results['save_time'] = float(timer)\n",
    "                \n",
    "                with MemoryTracker() as tracker:\n",
    "                    with Timer() as timer:\n",
    "                        _ = load(filename)\n",
    "                results['load_ram_delta_mb'] = tracker.memory / (1024 ** 2)\n",
    "                results['load_time'] = float(timer)\n",
    "                \n",
    "                benchmark.append(results)\n",
    "                \n",
    "            run = pd.DataFrame(benchmark)\n",
    "            run['run_no'] = i\n",
    "            runs.append(run)\n",
    "            \n",
    "    benchmark = pd.concat(runs, axis=0)\n",
    "    benchmark.reset_index(inplace=True, drop=True)\n",
    "    return benchmark"
   ]
  },
  {
   "cell_type": "markdown",
   "metadata": {},
   "source": [
    "### CSV Baseline"
   ]
  },
  {
   "cell_type": "code",
   "execution_count": 12,
   "metadata": {},
   "outputs": [],
   "source": [
    "formats = [('csv', {'index': None})]"
   ]
  },
  {
   "cell_type": "code",
   "execution_count": 13,
   "metadata": {},
   "outputs": [
    {
     "name": "stdout",
     "output_type": "stream",
     "text": [
      "Benchmarking round #1\n",
      "\tgenerating dataset...\n",
      "\ttesting format: csv\n",
      "Benchmarking round #2\n",
      "\tgenerating dataset...\n",
      "\ttesting format: csv\n",
      "Benchmarking round #3\n",
      "\tgenerating dataset...\n",
      "\ttesting format: csv\n",
      "Benchmarking round #4\n",
      "\tgenerating dataset...\n",
      "\ttesting format: csv\n",
      "Benchmarking round #5\n",
      "\tgenerating dataset...\n",
      "\ttesting format: csv\n"
     ]
    }
   ],
   "source": [
    "csv_results = benchmark(formats, n_rounds=5)"
   ]
  },
  {
   "cell_type": "code",
   "execution_count": 14,
   "metadata": {},
   "outputs": [],
   "source": [
    "csv_results.to_feather('baseline.feather')"
   ]
  },
  {
   "cell_type": "code",
   "execution_count": 15,
   "metadata": {},
   "outputs": [],
   "source": [
    "baseline = feather.read_dataframe('baseline.feather')"
   ]
  },
  {
   "cell_type": "code",
   "execution_count": 16,
   "metadata": {},
   "outputs": [
    {
     "data": {
      "text/html": [
       "<div>\n",
       "<style scoped>\n",
       "    .dataframe tbody tr th:only-of-type {\n",
       "        vertical-align: middle;\n",
       "    }\n",
       "\n",
       "    .dataframe tbody tr th {\n",
       "        vertical-align: top;\n",
       "    }\n",
       "\n",
       "    .dataframe thead th {\n",
       "        text-align: right;\n",
       "    }\n",
       "</style>\n",
       "<table border=\"1\" class=\"dataframe\">\n",
       "  <thead>\n",
       "    <tr style=\"text-align: right;\">\n",
       "      <th></th>\n",
       "      <th>format</th>\n",
       "      <th>filename</th>\n",
       "      <th>size_mb</th>\n",
       "      <th>save_ram_delta_mb</th>\n",
       "      <th>save_time</th>\n",
       "      <th>load_ram_delta_mb</th>\n",
       "      <th>load_time</th>\n",
       "      <th>run_no</th>\n",
       "    </tr>\n",
       "  </thead>\n",
       "  <tbody>\n",
       "    <tr>\n",
       "      <th>0</th>\n",
       "      <td>csv</td>\n",
       "      <td>random.csv</td>\n",
       "      <td>767.06</td>\n",
       "      <td>4.109375</td>\n",
       "      <td>29.188696</td>\n",
       "      <td>497.312500</td>\n",
       "      <td>7.157136</td>\n",
       "      <td>0</td>\n",
       "    </tr>\n",
       "    <tr>\n",
       "      <th>1</th>\n",
       "      <td>csv</td>\n",
       "      <td>random.csv</td>\n",
       "      <td>766.12</td>\n",
       "      <td>-0.023438</td>\n",
       "      <td>33.779919</td>\n",
       "      <td>514.394531</td>\n",
       "      <td>6.752042</td>\n",
       "      <td>1</td>\n",
       "    </tr>\n",
       "    <tr>\n",
       "      <th>2</th>\n",
       "      <td>csv</td>\n",
       "      <td>random.csv</td>\n",
       "      <td>769.98</td>\n",
       "      <td>-0.269531</td>\n",
       "      <td>30.113655</td>\n",
       "      <td>506.898438</td>\n",
       "      <td>6.838138</td>\n",
       "      <td>2</td>\n",
       "    </tr>\n",
       "    <tr>\n",
       "      <th>3</th>\n",
       "      <td>csv</td>\n",
       "      <td>random.csv</td>\n",
       "      <td>768.64</td>\n",
       "      <td>-0.019531</td>\n",
       "      <td>31.658011</td>\n",
       "      <td>514.597656</td>\n",
       "      <td>6.799700</td>\n",
       "      <td>3</td>\n",
       "    </tr>\n",
       "    <tr>\n",
       "      <th>4</th>\n",
       "      <td>csv</td>\n",
       "      <td>random.csv</td>\n",
       "      <td>773.26</td>\n",
       "      <td>-0.023438</td>\n",
       "      <td>34.327565</td>\n",
       "      <td>514.625000</td>\n",
       "      <td>6.855822</td>\n",
       "      <td>4</td>\n",
       "    </tr>\n",
       "  </tbody>\n",
       "</table>\n",
       "</div>"
      ],
      "text/plain": [
       "  format    filename  size_mb  save_ram_delta_mb  save_time  \\\n",
       "0    csv  random.csv   767.06           4.109375  29.188696   \n",
       "1    csv  random.csv   766.12          -0.023438  33.779919   \n",
       "2    csv  random.csv   769.98          -0.269531  30.113655   \n",
       "3    csv  random.csv   768.64          -0.019531  31.658011   \n",
       "4    csv  random.csv   773.26          -0.023438  34.327565   \n",
       "\n",
       "   load_ram_delta_mb  load_time  run_no  \n",
       "0         497.312500   7.157136       0  \n",
       "1         514.394531   6.752042       1  \n",
       "2         506.898438   6.838138       2  \n",
       "3         514.597656   6.799700       3  \n",
       "4         514.625000   6.855822       4  "
      ]
     },
     "execution_count": 16,
     "metadata": {},
     "output_type": "execute_result"
    }
   ],
   "source": [
    "baseline"
   ]
  },
  {
   "cell_type": "markdown",
   "metadata": {},
   "source": [
    "### Categoricals As Strings"
   ]
  },
  {
   "cell_type": "code",
   "execution_count": 17,
   "metadata": {},
   "outputs": [],
   "source": [
    "formats = [\n",
    "    ('hdf', {'key': 'data', 'format': 'table'}),\n",
    "    ('pickle',),\n",
    "#     ('msgpack',),\n",
    "    ('feather',),\n",
    "    ('parquet', {'engine': 'pyarrow'})\n",
    "]"
   ]
  },
  {
   "cell_type": "code",
   "execution_count": 18,
   "metadata": {},
   "outputs": [
    {
     "name": "stdout",
     "output_type": "stream",
     "text": [
      "Benchmarking round #1\n",
      "\tgenerating dataset...\n",
      "\ttesting format: hdf\n",
      "\ttesting format: pickle\n",
      "\ttesting format: feather\n",
      "\ttesting format: parquet\n",
      "Benchmarking round #2\n",
      "\tgenerating dataset...\n",
      "\ttesting format: hdf\n",
      "\ttesting format: pickle\n",
      "\ttesting format: feather\n",
      "\ttesting format: parquet\n",
      "Benchmarking round #3\n",
      "\tgenerating dataset...\n",
      "\ttesting format: hdf\n",
      "\ttesting format: pickle\n",
      "\ttesting format: feather\n",
      "\ttesting format: parquet\n",
      "Benchmarking round #4\n",
      "\tgenerating dataset...\n",
      "\ttesting format: hdf\n",
      "\ttesting format: pickle\n",
      "\ttesting format: feather\n",
      "\ttesting format: parquet\n",
      "Benchmarking round #5\n",
      "\tgenerating dataset...\n",
      "\ttesting format: hdf\n",
      "\ttesting format: pickle\n",
      "\ttesting format: feather\n",
      "\ttesting format: parquet\n",
      "Benchmarking round #6\n",
      "\tgenerating dataset...\n",
      "\ttesting format: hdf\n",
      "\ttesting format: pickle\n",
      "\ttesting format: feather\n",
      "\ttesting format: parquet\n",
      "Benchmarking round #7\n",
      "\tgenerating dataset...\n",
      "\ttesting format: hdf\n",
      "\ttesting format: pickle\n",
      "\ttesting format: feather\n",
      "\ttesting format: parquet\n",
      "Benchmarking round #8\n",
      "\tgenerating dataset...\n",
      "\ttesting format: hdf\n",
      "\ttesting format: pickle\n",
      "\ttesting format: feather\n",
      "\ttesting format: parquet\n",
      "Benchmarking round #9\n",
      "\tgenerating dataset...\n",
      "\ttesting format: hdf\n",
      "\ttesting format: pickle\n",
      "\ttesting format: feather\n",
      "\ttesting format: parquet\n",
      "Benchmarking round #10\n",
      "\tgenerating dataset...\n",
      "\ttesting format: hdf\n",
      "\ttesting format: pickle\n",
      "\ttesting format: feather\n",
      "\ttesting format: parquet\n",
      "Benchmarking round #11\n",
      "\tgenerating dataset...\n",
      "\ttesting format: hdf\n",
      "\ttesting format: pickle\n",
      "\ttesting format: feather\n",
      "\ttesting format: parquet\n",
      "Benchmarking round #12\n",
      "\tgenerating dataset...\n",
      "\ttesting format: hdf\n",
      "\ttesting format: pickle\n",
      "\ttesting format: feather\n",
      "\ttesting format: parquet\n",
      "Benchmarking round #13\n",
      "\tgenerating dataset...\n",
      "\ttesting format: hdf\n",
      "\ttesting format: pickle\n",
      "\ttesting format: feather\n",
      "\ttesting format: parquet\n",
      "Benchmarking round #14\n",
      "\tgenerating dataset...\n",
      "\ttesting format: hdf\n",
      "\ttesting format: pickle\n",
      "\ttesting format: feather\n",
      "\ttesting format: parquet\n",
      "Benchmarking round #15\n",
      "\tgenerating dataset...\n",
      "\ttesting format: hdf\n",
      "\ttesting format: pickle\n",
      "\ttesting format: feather\n",
      "\ttesting format: parquet\n",
      "Benchmarking round #16\n",
      "\tgenerating dataset...\n",
      "\ttesting format: hdf\n",
      "\ttesting format: pickle\n",
      "\ttesting format: feather\n",
      "\ttesting format: parquet\n",
      "Benchmarking round #17\n",
      "\tgenerating dataset...\n",
      "\ttesting format: hdf\n",
      "\ttesting format: pickle\n",
      "\ttesting format: feather\n",
      "\ttesting format: parquet\n",
      "Benchmarking round #18\n",
      "\tgenerating dataset...\n",
      "\ttesting format: hdf\n",
      "\ttesting format: pickle\n",
      "\ttesting format: feather\n",
      "\ttesting format: parquet\n",
      "Benchmarking round #19\n",
      "\tgenerating dataset...\n",
      "\ttesting format: hdf\n",
      "\ttesting format: pickle\n",
      "\ttesting format: feather\n",
      "\ttesting format: parquet\n",
      "Benchmarking round #20\n",
      "\tgenerating dataset...\n",
      "\ttesting format: hdf\n",
      "\ttesting format: pickle\n",
      "\ttesting format: feather\n",
      "\ttesting format: parquet\n"
     ]
    }
   ],
   "source": [
    "results = benchmark(formats)"
   ]
  },
  {
   "cell_type": "code",
   "execution_count": 19,
   "metadata": {},
   "outputs": [],
   "source": [
    "results.to_feather('one_million_cats_str.feather')"
   ]
  },
  {
   "cell_type": "code",
   "execution_count": 20,
   "metadata": {},
   "outputs": [],
   "source": [
    "results = feather.read_dataframe('one_million_cats_str.feather')"
   ]
  },
  {
   "cell_type": "code",
   "execution_count": 21,
   "metadata": {},
   "outputs": [],
   "source": [
    "results = pd.concat([baseline, results], axis=0, sort=False)"
   ]
  },
  {
   "cell_type": "code",
   "execution_count": 22,
   "metadata": {},
   "outputs": [
    {
     "data": {
      "text/html": [
       "<div>\n",
       "<style scoped>\n",
       "    .dataframe tbody tr th:only-of-type {\n",
       "        vertical-align: middle;\n",
       "    }\n",
       "\n",
       "    .dataframe tbody tr th {\n",
       "        vertical-align: top;\n",
       "    }\n",
       "\n",
       "    .dataframe thead th {\n",
       "        text-align: right;\n",
       "    }\n",
       "</style>\n",
       "<table border=\"1\" class=\"dataframe\">\n",
       "  <thead>\n",
       "    <tr style=\"text-align: right;\">\n",
       "      <th></th>\n",
       "      <th>format</th>\n",
       "      <th>size_mb</th>\n",
       "      <th>save_ram_delta_mb</th>\n",
       "      <th>save_time</th>\n",
       "      <th>load_ram_delta_mb</th>\n",
       "      <th>load_time</th>\n",
       "    </tr>\n",
       "  </thead>\n",
       "  <tbody>\n",
       "    <tr>\n",
       "      <th>0</th>\n",
       "      <td>csv</td>\n",
       "      <td>769.0120</td>\n",
       "      <td>0.754687</td>\n",
       "      <td>31.813569</td>\n",
       "      <td>509.565625</td>\n",
       "      <td>6.880568</td>\n",
       "    </tr>\n",
       "    <tr>\n",
       "      <th>1</th>\n",
       "      <td>feather</td>\n",
       "      <td>225.5015</td>\n",
       "      <td>706.273242</td>\n",
       "      <td>13.093979</td>\n",
       "      <td>877.545313</td>\n",
       "      <td>1.848458</td>\n",
       "    </tr>\n",
       "    <tr>\n",
       "      <th>2</th>\n",
       "      <td>hdf</td>\n",
       "      <td>637.7515</td>\n",
       "      <td>1225.353516</td>\n",
       "      <td>12.355667</td>\n",
       "      <td>2809.283984</td>\n",
       "      <td>13.227936</td>\n",
       "    </tr>\n",
       "    <tr>\n",
       "      <th>3</th>\n",
       "      <td>parquet</td>\n",
       "      <td>125.3435</td>\n",
       "      <td>119.489063</td>\n",
       "      <td>3.528444</td>\n",
       "      <td>904.445703</td>\n",
       "      <td>1.050796</td>\n",
       "    </tr>\n",
       "    <tr>\n",
       "      <th>4</th>\n",
       "      <td>pickle</td>\n",
       "      <td>651.3920</td>\n",
       "      <td>767.725195</td>\n",
       "      <td>15.730561</td>\n",
       "      <td>1121.995117</td>\n",
       "      <td>4.591625</td>\n",
       "    </tr>\n",
       "  </tbody>\n",
       "</table>\n",
       "</div>"
      ],
      "text/plain": [
       "    format   size_mb  save_ram_delta_mb  save_time  load_ram_delta_mb  \\\n",
       "0      csv  769.0120           0.754687  31.813569         509.565625   \n",
       "1  feather  225.5015         706.273242  13.093979         877.545313   \n",
       "2      hdf  637.7515        1225.353516  12.355667        2809.283984   \n",
       "3  parquet  125.3435         119.489063   3.528444         904.445703   \n",
       "4   pickle  651.3920         767.725195  15.730561        1121.995117   \n",
       "\n",
       "   load_time  \n",
       "0   6.880568  \n",
       "1   1.848458  \n",
       "2  13.227936  \n",
       "3   1.050796  \n",
       "4   4.591625  "
      ]
     },
     "execution_count": 22,
     "metadata": {},
     "output_type": "execute_result"
    }
   ],
   "source": [
    "avg = results.groupby('format').mean().reset_index().drop(columns=['run_no'])\n",
    "avg"
   ]
  },
  {
   "cell_type": "code",
   "execution_count": 23,
   "metadata": {},
   "outputs": [
    {
     "data": {
      "image/png": "[encoded data removed]",
      "text/plain": [
       "<Figure size 792x576 with 1 Axes>"
      ]
     },
     "metadata": {
      "needs_background": "light"
     },
     "output_type": "display_data"
    }
   ],
   "source": [
    "io_speed = avg[['format', 'save_time', 'load_time']].melt(id_vars='format')\n",
    "ax = sns.barplot(x='format', y='value', hue='variable', data=io_speed)\n",
    "_ = ax.set_xlabel('File Format')\n",
    "_ = ax.set_ylabel('Seconds')\n",
    "_ = ax.set_title('Time to Save/Load a Data Frame\\n(categories as strings)')\n",
    "ax.grid(True)"
   ]
  },
  {
   "cell_type": "code",
   "execution_count": 24,
   "metadata": {},
   "outputs": [
    {
     "data": {
      "image/png": "[encoded data removed]",
      "text/plain": [
       "<Figure size 792x576 with 1 Axes>"
      ]
     },
     "metadata": {
      "needs_background": "light"
     },
     "output_type": "display_data"
    }
   ],
   "source": [
    "mem_size = avg[['format', 'save_ram_delta_mb', 'load_ram_delta_mb']].melt(id_vars='format')\n",
    "ax = sns.barplot(x='format', y='value', hue='variable', data=mem_size)\n",
    "_ = ax.set_xlabel('File Format')\n",
    "_ = ax.set_ylabel('Memory, Mb')\n",
    "ax.set_title('Memory Consumption Growth When Saving/Loading\\n(categories as strings)')\n",
    "ax.grid(True)"
   ]
  },
  {
   "cell_type": "code",
   "execution_count": 25,
   "metadata": {},
   "outputs": [
    {
     "data": {
      "image/png": "[encoded data removed]",
      "text/plain": [
       "<Figure size 792x576 with 1 Axes>"
      ]
     },
     "metadata": {
      "needs_background": "light"
     },
     "output_type": "display_data"
    }
   ],
   "source": [
    "ax = sns.barplot(x='format', y='size_mb', data=avg)\n",
    "_ = ax.set_xlabel('File Format')\n",
    "_ = ax.set_ylabel('Memory, Mb')\n",
    "_ = ax.set_title('Serialized File Size\\n(categories as strings)')"
   ]
  },
  {
   "cell_type": "markdown",
   "metadata": {},
   "source": [
    "### Categoricals As Dedicated Category Type"
   ]
  },
  {
   "cell_type": "code",
   "execution_count": 26,
   "metadata": {},
   "outputs": [
    {
     "name": "stdout",
     "output_type": "stream",
     "text": [
      "Benchmarking round #1\n",
      "\tgenerating dataset...\n",
      "\tconverting categorical columns into pandas.Category\n",
      "\ttesting format: hdf\n",
      "\ttesting format: pickle\n",
      "\ttesting format: feather\n",
      "\ttesting format: parquet\n",
      "Benchmarking round #2\n",
      "\tgenerating dataset...\n",
      "\tconverting categorical columns into pandas.Category\n",
      "\ttesting format: hdf\n",
      "\ttesting format: pickle\n",
      "\ttesting format: feather\n",
      "\ttesting format: parquet\n",
      "Benchmarking round #3\n",
      "\tgenerating dataset...\n",
      "\tconverting categorical columns into pandas.Category\n",
      "\ttesting format: hdf\n",
      "\ttesting format: pickle\n",
      "\ttesting format: feather\n",
      "\ttesting format: parquet\n",
      "Benchmarking round #4\n",
      "\tgenerating dataset...\n",
      "\tconverting categorical columns into pandas.Category\n",
      "\ttesting format: hdf\n",
      "\ttesting format: pickle\n",
      "\ttesting format: feather\n",
      "\ttesting format: parquet\n",
      "Benchmarking round #5\n",
      "\tgenerating dataset...\n",
      "\tconverting categorical columns into pandas.Category\n",
      "\ttesting format: hdf\n",
      "\ttesting format: pickle\n",
      "\ttesting format: feather\n",
      "\ttesting format: parquet\n",
      "Benchmarking round #6\n",
      "\tgenerating dataset...\n",
      "\tconverting categorical columns into pandas.Category\n",
      "\ttesting format: hdf\n",
      "\ttesting format: pickle\n",
      "\ttesting format: feather\n",
      "\ttesting format: parquet\n",
      "Benchmarking round #7\n",
      "\tgenerating dataset...\n",
      "\tconverting categorical columns into pandas.Category\n",
      "\ttesting format: hdf\n",
      "\ttesting format: pickle\n",
      "\ttesting format: feather\n",
      "\ttesting format: parquet\n",
      "Benchmarking round #8\n",
      "\tgenerating dataset...\n",
      "\tconverting categorical columns into pandas.Category\n",
      "\ttesting format: hdf\n",
      "\ttesting format: pickle\n",
      "\ttesting format: feather\n",
      "\ttesting format: parquet\n",
      "Benchmarking round #9\n",
      "\tgenerating dataset...\n",
      "\tconverting categorical columns into pandas.Category\n",
      "\ttesting format: hdf\n",
      "\ttesting format: pickle\n",
      "\ttesting format: feather\n",
      "\ttesting format: parquet\n",
      "Benchmarking round #10\n",
      "\tgenerating dataset...\n",
      "\tconverting categorical columns into pandas.Category\n",
      "\ttesting format: hdf\n",
      "\ttesting format: pickle\n",
      "\ttesting format: feather\n",
      "\ttesting format: parquet\n",
      "Benchmarking round #11\n",
      "\tgenerating dataset...\n",
      "\tconverting categorical columns into pandas.Category\n",
      "\ttesting format: hdf\n",
      "\ttesting format: pickle\n",
      "\ttesting format: feather\n",
      "\ttesting format: parquet\n",
      "Benchmarking round #12\n",
      "\tgenerating dataset...\n",
      "\tconverting categorical columns into pandas.Category\n",
      "\ttesting format: hdf\n",
      "\ttesting format: pickle\n",
      "\ttesting format: feather\n",
      "\ttesting format: parquet\n",
      "Benchmarking round #13\n",
      "\tgenerating dataset...\n",
      "\tconverting categorical columns into pandas.Category\n",
      "\ttesting format: hdf\n",
      "\ttesting format: pickle\n",
      "\ttesting format: feather\n",
      "\ttesting format: parquet\n",
      "Benchmarking round #14\n",
      "\tgenerating dataset...\n",
      "\tconverting categorical columns into pandas.Category\n",
      "\ttesting format: hdf\n",
      "\ttesting format: pickle\n",
      "\ttesting format: feather\n",
      "\ttesting format: parquet\n",
      "Benchmarking round #15\n",
      "\tgenerating dataset...\n",
      "\tconverting categorical columns into pandas.Category\n",
      "\ttesting format: hdf\n",
      "\ttesting format: pickle\n",
      "\ttesting format: feather\n",
      "\ttesting format: parquet\n",
      "Benchmarking round #16\n",
      "\tgenerating dataset...\n",
      "\tconverting categorical columns into pandas.Category\n",
      "\ttesting format: hdf\n",
      "\ttesting format: pickle\n",
      "\ttesting format: feather\n",
      "\ttesting format: parquet\n",
      "Benchmarking round #17\n",
      "\tgenerating dataset...\n",
      "\tconverting categorical columns into pandas.Category\n",
      "\ttesting format: hdf\n",
      "\ttesting format: pickle\n",
      "\ttesting format: feather\n",
      "\ttesting format: parquet\n",
      "Benchmarking round #18\n",
      "\tgenerating dataset...\n",
      "\tconverting categorical columns into pandas.Category\n",
      "\ttesting format: hdf\n",
      "\ttesting format: pickle\n",
      "\ttesting format: feather\n",
      "\ttesting format: parquet\n",
      "Benchmarking round #19\n",
      "\tgenerating dataset...\n",
      "\tconverting categorical columns into pandas.Category\n",
      "\ttesting format: hdf\n",
      "\ttesting format: pickle\n",
      "\ttesting format: feather\n",
      "\ttesting format: parquet\n",
      "Benchmarking round #20\n",
      "\tgenerating dataset...\n",
      "\tconverting categorical columns into pandas.Category\n",
      "\ttesting format: hdf\n",
      "\ttesting format: pickle\n",
      "\ttesting format: feather\n",
      "\ttesting format: parquet\n"
     ]
    }
   ],
   "source": [
    "results = benchmark(formats, as_category=True)"
   ]
  },
  {
   "cell_type": "code",
   "execution_count": 27,
   "metadata": {},
   "outputs": [],
   "source": [
    "results.to_feather('one_million_cats_category.feather')"
   ]
  },
  {
   "cell_type": "code",
   "execution_count": 28,
   "metadata": {},
   "outputs": [],
   "source": [
    "results  = feather.read_dataframe('one_million_cats_category.feather')"
   ]
  },
  {
   "cell_type": "code",
   "execution_count": 29,
   "metadata": {},
   "outputs": [],
   "source": [
    "results = pd.concat([baseline, results], axis=0)"
   ]
  },
  {
   "cell_type": "code",
   "execution_count": 30,
   "metadata": {},
   "outputs": [
    {
     "data": {
      "text/html": [
       "<div>\n",
       "<style scoped>\n",
       "    .dataframe tbody tr th:only-of-type {\n",
       "        vertical-align: middle;\n",
       "    }\n",
       "\n",
       "    .dataframe tbody tr th {\n",
       "        vertical-align: top;\n",
       "    }\n",
       "\n",
       "    .dataframe thead th {\n",
       "        text-align: right;\n",
       "    }\n",
       "</style>\n",
       "<table border=\"1\" class=\"dataframe\">\n",
       "  <thead>\n",
       "    <tr style=\"text-align: right;\">\n",
       "      <th></th>\n",
       "      <th>format</th>\n",
       "      <th>size_mb</th>\n",
       "      <th>save_ram_delta_mb</th>\n",
       "      <th>save_time</th>\n",
       "      <th>load_ram_delta_mb</th>\n",
       "      <th>load_time</th>\n",
       "    </tr>\n",
       "  </thead>\n",
       "  <tbody>\n",
       "    <tr>\n",
       "      <th>0</th>\n",
       "      <td>csv</td>\n",
       "      <td>769.0120</td>\n",
       "      <td>0.754687</td>\n",
       "      <td>31.813569</td>\n",
       "      <td>509.565625</td>\n",
       "      <td>6.880568</td>\n",
       "    </tr>\n",
       "    <tr>\n",
       "      <th>1</th>\n",
       "      <td>feather</td>\n",
       "      <td>126.3525</td>\n",
       "      <td>16.347461</td>\n",
       "      <td>1.837974</td>\n",
       "      <td>246.404883</td>\n",
       "      <td>0.179533</td>\n",
       "    </tr>\n",
       "    <tr>\n",
       "      <th>2</th>\n",
       "      <td>hdf</td>\n",
       "      <td>638.4150</td>\n",
       "      <td>6.179297</td>\n",
       "      <td>0.935720</td>\n",
       "      <td>235.175195</td>\n",
       "      <td>0.845009</td>\n",
       "    </tr>\n",
       "    <tr>\n",
       "      <th>3</th>\n",
       "      <td>parquet</td>\n",
       "      <td>124.4595</td>\n",
       "      <td>50.639453</td>\n",
       "      <td>3.164805</td>\n",
       "      <td>415.695703</td>\n",
       "      <td>0.319350</td>\n",
       "    </tr>\n",
       "    <tr>\n",
       "      <th>4</th>\n",
       "      <td>pickle</td>\n",
       "      <td>128.7775</td>\n",
       "      <td>-0.023438</td>\n",
       "      <td>0.855143</td>\n",
       "      <td>78.980469</td>\n",
       "      <td>0.092545</td>\n",
       "    </tr>\n",
       "  </tbody>\n",
       "</table>\n",
       "</div>"
      ],
      "text/plain": [
       "    format   size_mb  save_ram_delta_mb  save_time  load_ram_delta_mb  \\\n",
       "0      csv  769.0120           0.754687  31.813569         509.565625   \n",
       "1  feather  126.3525          16.347461   1.837974         246.404883   \n",
       "2      hdf  638.4150           6.179297   0.935720         235.175195   \n",
       "3  parquet  124.4595          50.639453   3.164805         415.695703   \n",
       "4   pickle  128.7775          -0.023438   0.855143          78.980469   \n",
       "\n",
       "   load_time  \n",
       "0   6.880568  \n",
       "1   0.179533  \n",
       "2   0.845009  \n",
       "3   0.319350  \n",
       "4   0.092545  "
      ]
     },
     "execution_count": 30,
     "metadata": {},
     "output_type": "execute_result"
    }
   ],
   "source": [
    "avg = results.groupby('format').mean().reset_index().drop(columns=['run_no'])\n",
    "avg"
   ]
  },
  {
   "cell_type": "code",
   "execution_count": 31,
   "metadata": {},
   "outputs": [
    {
     "data": {
      "image/png": "[encoded data removed]",
      "text/plain": [
       "<Figure size 792x576 with 1 Axes>"
      ]
     },
     "metadata": {
      "needs_background": "light"
     },
     "output_type": "display_data"
    }
   ],
   "source": [
    "io_speed = avg[['format', 'save_time', 'load_time']].melt(id_vars='format')\n",
    "ax = sns.barplot(x='format', y='value', hue='variable', data=io_speed)\n",
    "_ = ax.set_xlabel('File Format')\n",
    "_ = ax.set_ylabel('Seconds')\n",
    "_ = ax.set_title('Time to Save/Load a Data Frame\\n(categories as pd.Categorical)')\n",
    "ax.grid(True)"
   ]
  },
  {
   "cell_type": "code",
   "execution_count": 32,
   "metadata": {},
   "outputs": [],
   "source": [
    "results = feather.read_dataframe('one_million_cats_category.feather')"
   ]
  },
  {
   "cell_type": "code",
   "execution_count": 33,
   "metadata": {},
   "outputs": [],
   "source": [
    "avg = results.groupby('format').mean().reset_index().drop(columns=['run_no'])"
   ]
  },
  {
   "cell_type": "code",
   "execution_count": 34,
   "metadata": {},
   "outputs": [
    {
     "data": {
      "image/png": "[encoded data removed]",
      "text/plain": [
       "<Figure size 792x576 with 1 Axes>"
      ]
     },
     "metadata": {
      "needs_background": "light"
     },
     "output_type": "display_data"
    }
   ],
   "source": [
    "io_speed = avg[['format', 'save_time', 'load_time']].melt(id_vars='format')\n",
    "ax = sns.barplot(x='format', y='value', hue='variable', data=io_speed)\n",
    "_ = ax.set_xlabel('File Format')\n",
    "_ = ax.set_ylabel('Seconds')\n",
    "_ = ax.set_title('Time to Save/Load a Data Frame\\n(categories as pd.Categorical)')\n",
    "ax.grid(True)"
   ]
  },
  {
   "cell_type": "code",
   "execution_count": 35,
   "metadata": {},
   "outputs": [
    {
     "data": {
      "image/png": "[encoded data removed]",
      "text/plain": [
       "<Figure size 792x576 with 1 Axes>"
      ]
     },
     "metadata": {
      "needs_background": "light"
     },
     "output_type": "display_data"
    }
   ],
   "source": [
    "mem_size = avg[['format', 'save_ram_delta_mb', 'load_ram_delta_mb']].melt(id_vars='format')\n",
    "ax = sns.barplot(x='format', y='value', hue='variable', data=mem_size)\n",
    "_ = ax.set_xlabel('File Format')\n",
    "_ = ax.set_ylabel('Memory, Mb')\n",
    "ax.set_title('Memory Consumption Growth When Saving/Loading\\n(categories as pd.Categorical)')\n",
    "ax.grid(True)"
   ]
  },
  {
   "cell_type": "code",
   "execution_count": 36,
   "metadata": {},
   "outputs": [
    {
     "data": {
      "image/png": "[encoded data removed]",
      "text/plain": [
       "<Figure size 792x576 with 1 Axes>"
      ]
     },
     "metadata": {
      "needs_background": "light"
     },
     "output_type": "display_data"
    }
   ],
   "source": [
    "ax = sns.barplot(x='format', y='size_mb', data=avg)\n",
    "_ = ax.set_xlabel('Memory, Mb')\n",
    "_ = ax.set_ylabel('File Format')\n",
    "_ = ax.set_title('Serialized File Size\\n(categories as pd.Categorical)')"
   ]
  },
  {
   "cell_type": "code",
   "execution_count": null,
   "metadata": {},
   "outputs": [],
   "source": []
  }
 ],
 "metadata": {
  "kernelspec": {
   "display_name": "pandas_benchmark",
   "language": "python",
   "name": "pandas_benchmark"
  },
  "language_info": {
   "codemirror_mode": {
    "name": "ipython",
    "version": 3
   },
   "file_extension": ".py",
   "mimetype": "text/x-python",
   "name": "python",
   "nbconvert_exporter": "python",
   "pygments_lexer": "ipython3",
   "version": "3.8.0"
  },
  "toc": {
   "base_numbering": 1,
   "nav_menu": {},
   "number_sections": true,
   "sideBar": true,
   "skip_h1_title": false,
   "title_cell": "Table of Contents",
   "title_sidebar": "Contents",
   "toc_cell": false,
   "toc_position": {},
   "toc_section_display": true,
   "toc_window_display": false
  }
 },
 "nbformat": 4,
 "nbformat_minor": 4
}
